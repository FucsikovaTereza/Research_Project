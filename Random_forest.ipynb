{
  "nbformat": 4,
  "nbformat_minor": 0,
  "metadata": {
    "colab": {
      "provenance": [],
      "authorship_tag": "ABX9TyNsJx3ey5X6OZ1l1+Ljjvx4",
      "include_colab_link": true
    },
    "kernelspec": {
      "name": "python3",
      "display_name": "Python 3"
    },
    "language_info": {
      "name": "python"
    }
  },
  "cells": [
    {
      "cell_type": "markdown",
      "metadata": {
        "id": "view-in-github",
        "colab_type": "text"
      },
      "source": [
        "<a href=\"https://colab.research.google.com/github/FucsikovaTereza/Research_Project/blob/main/Random_forest.ipynb\" target=\"_parent\"><img src=\"https://colab.research.google.com/assets/colab-badge.svg\" alt=\"Open In Colab\"/></a>"
      ]
    },
    {
      "cell_type": "code",
      "source": [
        "url = 'https://github.com/FucsikovaTereza/Research_Project/raw/main/data.npz'\n",
        "!wget -O data.npz {url}\n",
        "!pip install tqdm\n",
        "import numpy as np\n",
        "from sklearn.model_selection import train_test_split\n",
        "from sklearn.ensemble import RandomForestClassifier\n",
        "from sklearn.metrics import accuracy_score\n",
        "from tqdm import tqdm"
      ],
      "metadata": {
        "colab": {
          "base_uri": "https://localhost:8080/"
        },
        "id": "pbETmLsJKYmN",
        "outputId": "d38ae26e-1f31-4909-d20e-eff853b05771"
      },
      "execution_count": 14,
      "outputs": [
        {
          "output_type": "stream",
          "name": "stdout",
          "text": [
            "--2024-07-15 16:34:01--  https://github.com/FucsikovaTereza/Research_Project/raw/main/data.npz\n",
            "Resolving github.com (github.com)... 140.82.116.4\n",
            "Connecting to github.com (github.com)|140.82.116.4|:443... connected.\n",
            "HTTP request sent, awaiting response... 302 Found\n",
            "Location: https://raw.githubusercontent.com/FucsikovaTereza/Research_Project/main/data.npz [following]\n",
            "--2024-07-15 16:34:01--  https://raw.githubusercontent.com/FucsikovaTereza/Research_Project/main/data.npz\n",
            "Resolving raw.githubusercontent.com (raw.githubusercontent.com)... 185.199.108.133, 185.199.109.133, 185.199.110.133, ...\n",
            "Connecting to raw.githubusercontent.com (raw.githubusercontent.com)|185.199.108.133|:443... connected.\n",
            "HTTP request sent, awaiting response... 200 OK\n",
            "Length: 2709755 (2.6M) [application/octet-stream]\n",
            "Saving to: ‘data.npz’\n",
            "\n",
            "\rdata.npz              0%[                    ]       0  --.-KB/s               \rdata.npz            100%[===================>]   2.58M  --.-KB/s    in 0.05s   \n",
            "\n",
            "2024-07-15 16:34:01 (50.7 MB/s) - ‘data.npz’ saved [2709755/2709755]\n",
            "\n",
            "Requirement already satisfied: tqdm in /usr/local/lib/python3.10/dist-packages (4.66.4)\n"
          ]
        }
      ]
    },
    {
      "cell_type": "code",
      "execution_count": 10,
      "metadata": {
        "colab": {
          "base_uri": "https://localhost:8080/"
        },
        "id": "PkN73WcZKRGz",
        "outputId": "1628406b-4fe9-4d6c-f441-99e8126df00c"
      },
      "outputs": [
        {
          "output_type": "stream",
          "name": "stdout",
          "text": [
            "Features size: (56160, 12)\n",
            "Labels size: (56160,)\n"
          ]
        }
      ],
      "source": [
        "data = np.load('data.npz')\n",
        "X = data['matrix']\n",
        "y = data['labels']\n",
        "\n",
        "print(\"Features size:\", X.shape)\n",
        "print(\"Labels size:\", y.shape)"
      ]
    },
    {
      "cell_type": "code",
      "source": [
        "# Split the data into training+validation and test sets (80% train+validation, 20% test)\n",
        "X_train_val, X_test, y_train_val, y_test = train_test_split(X, y, test_size=0.2, random_state=42)\n",
        "\n",
        "# Further split the training+validation set into training and validation sets (80% train, 20% validation)\n",
        "X_train, X_val, y_train, y_val = train_test_split(X_train_val, y_train_val, test_size=0.25, random_state=42)\n",
        "\n",
        "print(\"Training set size:\", X_train.shape)\n",
        "print(\"Validation set size:\", X_val.shape)\n",
        "print(\"Test set size:\", X_test.shape)"
      ],
      "metadata": {
        "colab": {
          "base_uri": "https://localhost:8080/"
        },
        "id": "TRywkz4aLs7t",
        "outputId": "40d28c27-e315-4563-8801-a77efce34cc7"
      },
      "execution_count": 11,
      "outputs": [
        {
          "output_type": "stream",
          "name": "stdout",
          "text": [
            "Training set size: (33696, 12)\n",
            "Validation set size: (11232, 12)\n",
            "Test set size: (11232, 12)\n"
          ]
        }
      ]
    },
    {
      "cell_type": "code",
      "source": [
        "# Initialize the Random Forest model\n",
        "rf_model = RandomForestClassifier(n_estimators=100, random_state=42)\n",
        "\n",
        "# Train the model with progress bar\n",
        "for i in tqdm(range(1, rf_model.n_estimators + 1)):\n",
        "    rf_model.set_params(n_estimators=i)\n",
        "    rf_model.fit(X_train, y_train)\n",
        "\n",
        "\n",
        "# Predict on the validation set\n",
        "y_val_pred = rf_model.predict(X_val)\n",
        "# Calculate validation accuracy\n",
        "val_accuracy = accuracy_score(y_val, y_val_pred)\n",
        "print(\"Validation Accuracy:\", val_accuracy)\n",
        "\n",
        "\n",
        "# Predict on the test set\n",
        "y_test_pred = rf_model.predict(X_test)\n",
        "# Calculate test accuracy\n",
        "test_accuracy = accuracy_score(y_test, y_test_pred)\n",
        "print(\"Test Accuracy:\", test_accuracy)"
      ],
      "metadata": {
        "colab": {
          "base_uri": "https://localhost:8080/"
        },
        "id": "XYw7kTitNxio",
        "outputId": "7f5808ea-58d7-40f2-b4df-c5897464413a"
      },
      "execution_count": 15,
      "outputs": [
        {
          "output_type": "stream",
          "name": "stderr",
          "text": [
            "100%|██████████| 100/100 [09:27<00:00,  5.67s/it]\n"
          ]
        },
        {
          "output_type": "stream",
          "name": "stdout",
          "text": [
            "Validation Accuracy: 0.989761396011396\n",
            "Test Accuracy: 0.9910968660968661\n"
          ]
        }
      ]
    }
  ]
}